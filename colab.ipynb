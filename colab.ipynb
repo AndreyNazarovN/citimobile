{
  "nbformat": 4,
  "nbformat_minor": 0,
  "metadata": {
    "colab": {
      "name": "Untitled4 (1).ipynb",
      "provenance": [],
      "collapsed_sections": []
    },
    "kernelspec": {
      "name": "python3",
      "display_name": "Python 3"
    }
  },
  "cells": [
    {
      "cell_type": "code",
      "metadata": {
        "id": "R4pn4Rpstp8h",
        "colab_type": "code",
        "colab": {}
      },
      "source": [
        "import pandas as pd\n",
        "import matplotlib.pyplot as plt\n",
        "import tqdm\n",
        "import numpy as np\n",
        "import geopy\n",
        "import catboost\n",
        "from math import radians, cos, sin, asin, sqrt, hypot\n",
        "from sklearn.model_selection import train_test_split\n",
        "from sklearn.metrics import roc_auc_score\n",
        "from sklearn.metrics import mean_absolute_error\n",
        "from catboost import *\n",
        "from geopy import distance\n",
        "#%matplotlib notebook\n",
        "from category_encoders import *\n",
        "np.random.seed(0)"
      ],
      "execution_count": 0,
      "outputs": []
    },
    {
      "cell_type": "markdown",
      "metadata": {
        "id": "uwRvvxayXkLa",
        "colab_type": "text"
      },
      "source": [
        "# **Решение**\n",
        "\n",
        "**Сгенерированные нами признаки, которые влияют на точность:**\n",
        "- hour_of_traffic \"час пик\" (с 8 до 10 утра и с 18 до 19 трафик более плотный) \n",
        "- direction_from_center \"в центр/из центра\" (направление движения в \"час пик\" играет большую роль - оценка завышена, если направление движения в \"час пик\" имеет значение 0 - \"в центр\")\n",
        "- big_eta \"предварительная оценка времени более 15 минут\" (в длительных поездках отклонение реального времени от первоначальной оценки больше) \n",
        "\n",
        "**Признаки, которые не влияют:**\n",
        "- Широта/долгота (данные зашумлены и ухудшают качество)\n",
        "- Погода (не менялась практически на протяжении всего датасета, поэтому вычеркиваем)\n",
        "- Расстояние до центра (ухудшает качество, добавляет шум, убираем)\n",
        "- День недели, дата (не прибавляют к качеству)\n"
      ]
    },
    {
      "cell_type": "code",
      "metadata": {
        "id": "mURN7ox08zoU",
        "colab_type": "code",
        "colab": {}
      },
      "source": [
        "#Функции для расчета сгенерированных нами признаков \n",
        "# - расстояние до центра (отдельно для точки отправления и для точки назначения)\n",
        "# - направление движения (в центр/из центра)\n",
        "# - час пик или нет\n",
        "# - предварительная оценка больше 15 минут или нет\n",
        "\n",
        "def to_center_dist(lat1, lat2, lon1, lon2):\n",
        "        dist = 0\n",
        "        dist += geodesic(lat1, lon1, ellipsoid='WGS-84').m\n",
        "        dist += geodesic(lat2, lon2, ellipsoid='WGS-84').m\n",
        "        return dist\n",
        "\n",
        "def distancer(row):\n",
        "    coords_1 = (row['latitude'], row['longitude'])\n",
        "    coords_2 = (row['center_latitude'], row['center_longitude'])\n",
        "    return geopy.distance.VincentyDistance(coords_1, coords_2).miles\n",
        "\n",
        "def del_distancer(row):\n",
        "    coords_1 = (row['del_latitude'], row['del_longitude'])\n",
        "    coords_2 = (row['center_latitude'], row['center_longitude'])\n",
        "    return geopy.distance.VincentyDistance(coords_1, coords_2).miles   \n",
        "\n",
        "def direction(row):\n",
        "    direction = row['del_distance'] - row['distance']\n",
        "    if direction > 0:  \n",
        "        return 1\n",
        "    if direction < 0:\n",
        "        return 0\n",
        "\n",
        "def hour_of_traffic(row):\n",
        "    hour = row['hour']\n",
        "    if hour == 9 or hour == 18:  \n",
        "        return 1\n",
        "    else:\n",
        "        return 0     \n",
        "\n",
        "def big_eta(row):\n",
        "    hour = row['ETA']\n",
        "    if hour >= 1000:  \n",
        "        return 1\n",
        "    else:\n",
        "        return 0             \n",
        "\n",
        "      "
      ],
      "execution_count": 0,
      "outputs": []
    },
    {
      "cell_type": "code",
      "metadata": {
        "id": "6RG6bexRsIzW",
        "colab_type": "code",
        "colab": {
          "base_uri": "https://localhost:8080/",
          "height": 34
        },
        "outputId": "0935ae3f-cfc5-4420-f982-58fc5b53afb4"
      },
      "source": [
        "# Время исполнения ячейки ~ 10-15 минут.\n",
        "# Подготавливаем датасет для обучения и добавляем признаки\n",
        "\n",
        "class DataLoader():\n",
        "    def __init__(self, time_order=None):\n",
        "        '''\n",
        "        time_order: добавляет признак, в какое время суток был сделан заказ такси.\n",
        "        '''\n",
        "        self.time_order = time_order\n",
        "        self.train, self.test = self.prepare_train(pd.read_csv('/content/drive/My Drive/train.csv', index_col=0), time_order), self.prepare_test(pd.read_csv('/content/drive/My Drive/test_additional.csv', index_col=0))\n",
        "        self.bad_points = None\n",
        "        \n",
        "    \n",
        "\n",
        "    def prepare_train(self, df, dist_to_bad=None):\n",
        "        df['hour'] = pd.DatetimeIndex(pd.to_datetime(df['OrderedDate'])).hour\n",
        "        df['day'] = pd.DatetimeIndex(pd.to_datetime(df['OrderedDate'])).day\n",
        "        df['weekday'] = pd.DatetimeIndex(pd.to_datetime(df['OrderedDate'])).weekday\n",
        "        df['distance'] = df.apply(distancer, axis=1)  \n",
        "        df['del_distance'] = df.apply(del_distancer, axis=1) \n",
        "        df['direction_from_center'] = df.apply(direction, axis=1) \n",
        "        df['hour_of_traffic'] = df.apply(hour_of_traffic, axis=1)\n",
        "        df['big_eta'] = df.apply(big_eta, axis=1)\n",
        "\n",
        "        df = df.drop(['OrderedDate', 'center_latitude', 'center_longitude', 'latitude', 'longitude', 'del_latitude', 'del_longitude'], axis=1)\n",
        "        if dist_to_bad is None:\n",
        "            return df\n",
        "        print('Подготовка трейн датасета')\n",
        "        self.time_order = 'trained'\n",
        "        return df\n",
        "    \n",
        "    def prepare_test(self, df):\n",
        "        df['hour'] = pd.DatetimeIndex(pd.to_datetime(df['OrderedDate'])).hour\n",
        "        df['day'] = pd.DatetimeIndex(pd.to_datetime(df['OrderedDate'])).day\n",
        "        df['weekday'] = pd.DatetimeIndex(pd.to_datetime(df['OrderedDate'])).weekday\n",
        "        df['distance'] = df.apply(distancer, axis=1)\n",
        "        df['del_distance'] = df.apply(del_distancer, axis=1) \n",
        "        df['direction_from_center'] = df.apply(direction, axis=1) \n",
        "        df['hour_of_traffic'] = df.apply(hour_of_traffic, axis=1)\n",
        "        df['big_eta'] = df.apply(big_eta, axis=1)\n",
        "        df = df.drop(['OrderedDate', 'center_latitude', 'center_longitude', 'latitude', 'longitude', 'del_latitude', 'del_longitude'], axis=1)\n",
        "        return df\n",
        "    \n",
        "data = DataLoader(1200)"
      ],
      "execution_count": 107,
      "outputs": [
        {
          "output_type": "stream",
          "text": [
            "Подготовка трейн датасета\n"
          ],
          "name": "stdout"
        }
      ]
    },
    {
      "cell_type": "code",
      "metadata": {
        "id": "IqZU68pVvKRQ",
        "colab_type": "code",
        "colab": {}
      },
      "source": [
        "train_data = data.train\n",
        "test_data = data.test"
      ],
      "execution_count": 0,
      "outputs": []
    },
    {
      "cell_type": "code",
      "metadata": {
        "id": "OJYwEnE7zpvr",
        "colab_type": "code",
        "colab": {}
      },
      "source": [
        "from category_encoders import *"
      ],
      "execution_count": 0,
      "outputs": []
    },
    {
      "cell_type": "code",
      "metadata": {
        "id": "2TyU1PFkyzO5",
        "colab_type": "code",
        "colab": {}
      },
      "source": [
        "# Класс Coder помогает перебирать различные способы кодировки, чтобы тестировать влияние кодировки на целевую переменную.\n",
        "class Coder():\n",
        "    def __init__(self, train_, test, labels, cols):\n",
        "        self.train, self.test, self.labels, self.cols = train, test, labels, cols\n",
        "        \n",
        "    def base(self):\n",
        "        cod = BaseNEncoder(cols=self.cols).fit(self.train, self.labels)\n",
        "        return cod.transform(self.train), cod.transform(self.test)\n",
        "    \n",
        "    def target_enc(self):\n",
        "        cod = TargetEncoder(cols=self.cols).fit(self.train, self.labels)\n",
        "        return cod.transform(self.train), cod.transform(self.test)\n",
        "    \n",
        "    def backward(self):\n",
        "        cod = BackwardDifferenceEncoder(cols=self.cols).fit(self.train, self.labels)\n",
        "        return cod.transform(self.train), cod.transform(self.test)\n",
        "    \n",
        "    def james_stein(self):\n",
        "        cod = JamesSteinEncoder(cols=self.cols).fit(self.train, self.labels)\n",
        "        return cod.transform(self.train), cod.transform(self.test)\n",
        "    \n",
        "    def m_estimate(self):\n",
        "        cod = MEstimateEncoder(cols=self.cols).fit(self.train, self.labels)\n",
        "        return cod.transform(self.train), cod.transform(self.test)"
      ],
      "execution_count": 0,
      "outputs": []
    },
    {
      "cell_type": "code",
      "metadata": {
        "id": "0HX2QAJKvgQV",
        "colab_type": "code",
        "colab": {}
      },
      "source": [
        "train =  train_data[['main_id_locality', 'ETA', 'EDA', 'hour', 'direction_from_center', 'big_eta', 'hour_of_traffic']]\n",
        "label = train_data['RTA']\n",
        "X_train, X_test, y_train, y_test = train_test_split(train, label)"
      ],
      "execution_count": 0,
      "outputs": []
    },
    {
      "cell_type": "code",
      "metadata": {
        "id": "XiXZZFHjwD4v",
        "colab_type": "code",
        "colab": {
          "base_uri": "https://localhost:8080/",
          "height": 952
        },
        "outputId": "fe8934db-c9dc-46ac-97da-edb3779ebd2f"
      },
      "source": [
        "# Обучение \n",
        "reg = catboost.CatBoostRegressor(iterations=5000, learning_rate=0.001, depth=10, loss_function='MAPE')\n",
        "pool = catboost.Pool(X_test.values, y_test.values)\n",
        "reg.fit(X_train, y_train, eval_set=pool)"
      ],
      "execution_count": 110,
      "outputs": [
        {
          "output_type": "stream",
          "text": [
            "0:\tlearn: 0.4323172\ttest: 0.4327543\tbest: 0.4327543 (0)\ttotal: 322ms\tremaining: 15.8s\n",
            "1:\tlearn: 0.4321223\ttest: 0.4325597\tbest: 0.4325597 (1)\ttotal: 620ms\tremaining: 14.9s\n",
            "2:\tlearn: 0.4320747\ttest: 0.4325126\tbest: 0.4325126 (2)\ttotal: 932ms\tremaining: 14.6s\n",
            "3:\tlearn: 0.4319722\ttest: 0.4324109\tbest: 0.4324109 (3)\ttotal: 1.23s\tremaining: 14.1s\n",
            "4:\tlearn: 0.4317559\ttest: 0.4321948\tbest: 0.4321948 (4)\ttotal: 1.53s\tremaining: 13.8s\n",
            "5:\tlearn: 0.4317069\ttest: 0.4321462\tbest: 0.4321462 (5)\ttotal: 1.82s\tremaining: 13.4s\n",
            "6:\tlearn: 0.4315696\ttest: 0.4320095\tbest: 0.4320095 (6)\ttotal: 2.12s\tremaining: 13s\n",
            "7:\tlearn: 0.4314606\ttest: 0.4319015\tbest: 0.4319015 (7)\ttotal: 2.42s\tremaining: 12.7s\n",
            "8:\tlearn: 0.4312723\ttest: 0.4317134\tbest: 0.4317134 (8)\ttotal: 2.74s\tremaining: 12.5s\n",
            "9:\tlearn: 0.4311244\ttest: 0.4315656\tbest: 0.4315656 (9)\ttotal: 3.04s\tremaining: 12.2s\n",
            "10:\tlearn: 0.4309936\ttest: 0.4314347\tbest: 0.4314347 (10)\ttotal: 3.36s\tremaining: 11.9s\n",
            "11:\tlearn: 0.4308585\ttest: 0.4313003\tbest: 0.4313003 (11)\ttotal: 3.66s\tremaining: 11.6s\n",
            "12:\tlearn: 0.4307341\ttest: 0.4311768\tbest: 0.4311768 (12)\ttotal: 3.96s\tremaining: 11.3s\n",
            "13:\tlearn: 0.4305565\ttest: 0.4309987\tbest: 0.4309987 (13)\ttotal: 4.25s\tremaining: 10.9s\n",
            "14:\tlearn: 0.4303820\ttest: 0.4308239\tbest: 0.4308239 (14)\ttotal: 4.56s\tremaining: 10.6s\n",
            "15:\tlearn: 0.4303368\ttest: 0.4307792\tbest: 0.4307792 (15)\ttotal: 4.86s\tremaining: 10.3s\n",
            "16:\tlearn: 0.4301514\ttest: 0.4305935\tbest: 0.4305935 (16)\ttotal: 5.16s\tremaining: 10s\n",
            "17:\tlearn: 0.4300485\ttest: 0.4304917\tbest: 0.4304917 (17)\ttotal: 5.48s\tremaining: 9.74s\n",
            "18:\tlearn: 0.4298915\ttest: 0.4303349\tbest: 0.4303349 (18)\ttotal: 5.78s\tremaining: 9.43s\n",
            "19:\tlearn: 0.4297060\ttest: 0.4301495\tbest: 0.4301495 (19)\ttotal: 6.12s\tremaining: 9.19s\n",
            "20:\tlearn: 0.4295940\ttest: 0.4300384\tbest: 0.4300384 (20)\ttotal: 6.42s\tremaining: 8.87s\n",
            "21:\tlearn: 0.4294935\ttest: 0.4299387\tbest: 0.4299387 (21)\ttotal: 6.69s\tremaining: 8.51s\n",
            "22:\tlearn: 0.4293191\ttest: 0.4297641\tbest: 0.4297641 (22)\ttotal: 6.99s\tremaining: 8.21s\n",
            "23:\tlearn: 0.4291770\ttest: 0.4296219\tbest: 0.4296219 (23)\ttotal: 7.29s\tremaining: 7.9s\n",
            "24:\tlearn: 0.4290541\ttest: 0.4294993\tbest: 0.4294993 (24)\ttotal: 7.6s\tremaining: 7.6s\n",
            "25:\tlearn: 0.4289336\ttest: 0.4293792\tbest: 0.4293792 (25)\ttotal: 7.91s\tremaining: 7.3s\n",
            "26:\tlearn: 0.4287858\ttest: 0.4292317\tbest: 0.4292317 (26)\ttotal: 8.21s\tremaining: 7s\n",
            "27:\tlearn: 0.4286389\ttest: 0.4290845\tbest: 0.4290845 (27)\ttotal: 8.54s\tremaining: 6.71s\n",
            "28:\tlearn: 0.4285267\ttest: 0.4289727\tbest: 0.4289727 (28)\ttotal: 8.84s\tremaining: 6.4s\n",
            "29:\tlearn: 0.4283312\ttest: 0.4287774\tbest: 0.4287774 (29)\ttotal: 9.14s\tremaining: 6.09s\n",
            "30:\tlearn: 0.4282030\ttest: 0.4286495\tbest: 0.4286495 (30)\ttotal: 9.45s\tremaining: 5.79s\n",
            "31:\tlearn: 0.4280963\ttest: 0.4285438\tbest: 0.4285438 (31)\ttotal: 9.76s\tremaining: 5.49s\n",
            "32:\tlearn: 0.4279100\ttest: 0.4283576\tbest: 0.4283576 (32)\ttotal: 10.1s\tremaining: 5.18s\n",
            "33:\tlearn: 0.4277968\ttest: 0.4282452\tbest: 0.4282452 (33)\ttotal: 10.4s\tremaining: 4.88s\n",
            "34:\tlearn: 0.4276410\ttest: 0.4280892\tbest: 0.4280892 (34)\ttotal: 10.7s\tremaining: 4.58s\n",
            "35:\tlearn: 0.4274741\ttest: 0.4279221\tbest: 0.4279221 (35)\ttotal: 11s\tremaining: 4.27s\n",
            "36:\tlearn: 0.4273375\ttest: 0.4277852\tbest: 0.4277852 (36)\ttotal: 11.3s\tremaining: 3.96s\n",
            "37:\tlearn: 0.4271944\ttest: 0.4276421\tbest: 0.4276421 (37)\ttotal: 11.6s\tremaining: 3.66s\n",
            "38:\tlearn: 0.4270074\ttest: 0.4274554\tbest: 0.4274554 (38)\ttotal: 11.9s\tremaining: 3.35s\n",
            "39:\tlearn: 0.4268241\ttest: 0.4272721\tbest: 0.4272721 (39)\ttotal: 12.2s\tremaining: 3.05s\n",
            "40:\tlearn: 0.4266667\ttest: 0.4271144\tbest: 0.4271144 (40)\ttotal: 12.5s\tremaining: 2.74s\n",
            "41:\tlearn: 0.4265327\ttest: 0.4269801\tbest: 0.4269801 (41)\ttotal: 12.8s\tremaining: 2.44s\n",
            "42:\tlearn: 0.4263701\ttest: 0.4268175\tbest: 0.4268175 (42)\ttotal: 13.1s\tremaining: 2.13s\n",
            "43:\tlearn: 0.4262090\ttest: 0.4266560\tbest: 0.4266560 (43)\ttotal: 13.4s\tremaining: 1.82s\n",
            "44:\tlearn: 0.4260657\ttest: 0.4265124\tbest: 0.4265124 (44)\ttotal: 13.7s\tremaining: 1.52s\n",
            "45:\tlearn: 0.4259258\ttest: 0.4263721\tbest: 0.4263721 (45)\ttotal: 14s\tremaining: 1.22s\n",
            "46:\tlearn: 0.4257846\ttest: 0.4262310\tbest: 0.4262310 (46)\ttotal: 14.3s\tremaining: 911ms\n",
            "47:\tlearn: 0.4256287\ttest: 0.4260746\tbest: 0.4260746 (47)\ttotal: 14.6s\tremaining: 608ms\n",
            "48:\tlearn: 0.4254802\ttest: 0.4259261\tbest: 0.4259261 (48)\ttotal: 14.9s\tremaining: 304ms\n",
            "49:\tlearn: 0.4253540\ttest: 0.4258009\tbest: 0.4258009 (49)\ttotal: 15.2s\tremaining: 0us\n",
            "\n",
            "bestTest = 0.4258009128\n",
            "bestIteration = 49\n",
            "\n"
          ],
          "name": "stdout"
        },
        {
          "output_type": "execute_result",
          "data": {
            "text/plain": [
              "<catboost.core.CatBoostRegressor at 0x7fbf516d1550>"
            ]
          },
          "metadata": {
            "tags": []
          },
          "execution_count": 110
        }
      ]
    },
    {
      "cell_type": "code",
      "metadata": {
        "id": "TkAfM_sewPag",
        "colab_type": "code",
        "colab": {}
      },
      "source": [
        "df_test= test_data[['main_id_locality', 'ETA', 'EDA', 'hour', 'direction_from_center', 'big_eta', 'hour_of_traffic']]\n",
        "vals = reg.predict(df_test.values)"
      ],
      "execution_count": 0,
      "outputs": []
    },
    {
      "cell_type": "code",
      "metadata": {
        "id": "_GNYtnN6XCMg",
        "colab_type": "code",
        "colab": {}
      },
      "source": [
        "import numpy as np\n",
        "\n",
        "def mean_absolute_percentage_error(y_true, y_pred): \n",
        "    y_true, y_pred = np.array(y_true), np.array(y_pred)\n",
        "    return np.mean(np.abs((y_true - y_pred) / y_true)) * 100\n",
        "\n",
        "mean_absolute_percentage_error(df_validation['RTA'].values[:89938], vals)"
      ],
      "execution_count": 0,
      "outputs": []
    },
    {
      "cell_type": "code",
      "metadata": {
        "id": "hzJ8-1i8b3w3",
        "colab_type": "code",
        "colab": {}
      },
      "source": [
        "# submission\n",
        "answers = pd.DataFrame(vals, columns=['Prediction'])\n",
        "answers.to_csv('sub.csv', index_label='Id')"
      ],
      "execution_count": 0,
      "outputs": []
    }
  ]
}